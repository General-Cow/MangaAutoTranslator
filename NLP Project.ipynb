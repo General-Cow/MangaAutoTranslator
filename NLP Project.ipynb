{
 "cells": [
  {
   "cell_type": "markdown",
   "id": "20da9cd3",
   "metadata": {},
   "source": [
    "# NLP Project: Autotranslator for Manga Pages\n",
    "\n",
    "David Blankenship   dwb65@drexel.edu\n",
    "\n",
    "Idea for a project. Use some OCR to extract Japanese characters from images. Then, depending on whether the OCR autotranslates, I can either translate it with a model I choose or compare to other models. Perhaps look at a BLEU score for an evaluation of some sort and try different stuff."
   ]
  },
  {
   "cell_type": "markdown",
   "id": "275e4163-5af3-4cc7-a41f-f1b1a2a03bae",
   "metadata": {},
   "source": [
    "## Japanese Writing System\n",
    "\n",
    "It is useful to describe the Japanese writing system briefly to understand the analysis I have in this project. There are three major elements for writing Japanese; Hiragana, katakana, and kanji. The first two are phonetic syllabaries while kanji is a logographic system derived from, but distinct to, Chinese characters where individual kanji represent specific words or concepts. Hiragana is typically used for native Japanese words while katakana is used for loanwords and various special uses. Kanji may sometimes be accompanied with small text next to it. These are called furigana and they are a reading aid used to show the pronunciation of kanji, usually for less frequently used kanji or in works expected to be read by children still learning their kanji. All three of these can be used in a sentence together. Kanji can also be used as part of a word with hiragana to form a word, for example 休む is a single word and means 'to rest' and is a kanji (休) and a hiragana character (む).\n",
    "\n",
    "It should also be noted that there are no spacings between words or sentences. They use similar punctuation although some such as their periods, commas, or quotations look slightly different. Some such as question marks are loaned from the West but are only used in informal writings.\n",
    "\n",
    "The order for reading Japanese is also important. Japanese can be written vertically or horizontally. If it is written vertically then the sentence starts from the top goes to the bottom and is ordered from right to left. This is the traditional style of writing and is called tategaki. Japanese can also be written horizontally and is read from left to right as in English. This is the modern style and is called yokogaki. \n",
    "\n",
    "We will typically see images written in tategaki, which is the traditional format for manga, while the output of our OCRs will be in yokogaki, the normal style for Japanese writing on computers.\n",
    "\n",
    "\n",
    "\n",
    "More can be read here: https://en.wikipedia.org/wiki/Japanese_writing_system\n",
    "\n",
    "I should also note here that I do not speak Japanese and am unable to personally verify any translations, I am simply somewhat familiar with it and know some words due to personal hobby interests over the years.\n",
    "\n",
    "As an aside, Japanese must be a fascinating language to conduct NLP in since complex concepts can be expressed in very few tokens and the separation of words can be contextual. For example, 花霞 or hanagasumi is a combination of the kanji for flower (hana) and mist (gasumi) and literally translates to flower mist. However, the actual meaning is representing the concept of cherry blossoms in the wind being so numerous it feels like a a fog or mist of flower petals. Such a poetic concept in just two characters!"
   ]
  },
  {
   "cell_type": "markdown",
   "id": "592928a3-b318-4c72-882c-6e53707a552c",
   "metadata": {},
   "source": [
    "#### Import Statements"
   ]
  },
  {
   "cell_type": "code",
   "execution_count": 1,
   "id": "86e09bab-0a64-48e3-a62b-85c1fb2e4ee6",
   "metadata": {},
   "outputs": [],
   "source": [
    "import os\n",
    "import numpy\n",
    "from PIL import Image\n",
    "\n",
    "from manga_ocr import MangaOcr\n",
    "import easyocr\n",
    "\n",
    "from transformers import pipeline\n",
    "\n",
    "from datasets import load_metric"
   ]
  },
  {
   "cell_type": "code",
   "execution_count": 20,
   "id": "da5151ae-37d7-46c5-8a2e-05dff4e8ae95",
   "metadata": {},
   "outputs": [
    {
     "data": {
      "text/plain": [
       "['clip3.jpg',\n",
       " 'clip4.jpg',\n",
       " 'clip5.jpg',\n",
       " 'clip6.jpg',\n",
       " 'clip7.jpg',\n",
       " 'clip8.jpg',\n",
       " 'clip9.jpg',\n",
       " 'clip_1.jpg',\n",
       " 'clip_10.jpg',\n",
       " 'clip_2.jpg',\n",
       " 'random_mangaclips.jpg']"
      ]
     },
     "execution_count": 20,
     "metadata": {},
     "output_type": "execute_result"
    }
   ],
   "source": [
    "os.listdir('./Random Manga Clips/random_manga1/')"
   ]
  },
  {
   "cell_type": "code",
   "execution_count": 21,
   "id": "4edb3f35-b79d-4421-b2db-812033331c5b",
   "metadata": {},
   "outputs": [
    {
     "data": {
      "text/plain": [
       "['clip01.jpg',\n",
       " 'clip02.jpg',\n",
       " 'clip03.jpg',\n",
       " 'clip10.jpg',\n",
       " 'clip4.jpg',\n",
       " 'clip5.jpg',\n",
       " 'clip6.jpg',\n",
       " 'clip7.jpg',\n",
       " 'clip8.jpg',\n",
       " 'clip9.jpg',\n",
       " 'random_mangaclips.jpg']"
      ]
     },
     "execution_count": 21,
     "metadata": {},
     "output_type": "execute_result"
    }
   ],
   "source": [
    "os.listdir('./Random Manga Clips/random_manga1/')"
   ]
  },
  {
   "cell_type": "markdown",
   "id": "32722e94",
   "metadata": {},
   "source": [
    "## OCR\n",
    "\n",
    "Is there some specialization between MangaOCR and EasyOCR? Frankly this isn't the point of this assignment so I shouldn't be too invested in this, but later itll matter a lot. Need to consider as well a potential way to segment words or textboxes either automatically or me setting them manually.\n",
    "\n",
    "Also throwing this out there but color boxes to find text boxes? Assuming MangaOCR doesnt have it already."
   ]
  },
  {
   "cell_type": "markdown",
   "id": "2796edfb",
   "metadata": {},
   "source": [
    "### Manga OCR\n",
    "\n",
    "https://github.com/kha-white/manga-ocr"
   ]
  },
  {
   "cell_type": "code",
   "execution_count": 4,
   "id": "df674faf-ab16-4428-b21e-d44ee3820ff9",
   "metadata": {
    "scrolled": true
   },
   "outputs": [
    {
     "name": "stderr",
     "output_type": "stream",
     "text": [
      "\u001b[32m2024-06-12 22:05:06.419\u001b[0m | \u001b[1mINFO    \u001b[0m | \u001b[36mmanga_ocr.ocr\u001b[0m:\u001b[36m__init__\u001b[0m:\u001b[36m13\u001b[0m - \u001b[1mLoading OCR model from kha-white/manga-ocr-base\u001b[0m\n",
      "C:\\Users\\dblan\\anaconda3\\Lib\\site-packages\\transformers\\models\\vit\\feature_extraction_vit.py:28: FutureWarning: The class ViTFeatureExtractor is deprecated and will be removed in version 5 of Transformers. Please use ViTImageProcessor instead.\n",
      "  warnings.warn(\n",
      "\u001b[32m2024-06-12 22:05:10.708\u001b[0m | \u001b[1mINFO    \u001b[0m | \u001b[36mmanga_ocr.ocr\u001b[0m:\u001b[36m__init__\u001b[0m:\u001b[36m25\u001b[0m - \u001b[1mUsing CPU\u001b[0m\n",
      "\u001b[32m2024-06-12 22:05:11.620\u001b[0m | \u001b[1mINFO    \u001b[0m | \u001b[36mmanga_ocr.ocr\u001b[0m:\u001b[36m__init__\u001b[0m:\u001b[36m32\u001b[0m - \u001b[1mOCR ready\u001b[0m\n"
     ]
    }
   ],
   "source": [
    "mocr = MangaOcr()"
   ]
  },
  {
   "cell_type": "code",
   "execution_count": 5,
   "id": "11fef8fa",
   "metadata": {},
   "outputs": [],
   "source": [
    "text = []\n",
    "for i in range(1,10):\n",
    "    text.append(mocr(f'./Random Manga Clips/random_manga1/clip0{i}.jpg'))"
   ]
  },
  {
   "cell_type": "code",
   "execution_count": 6,
   "id": "38af87f2-a3d5-426c-974c-4dd966ae1899",
   "metadata": {},
   "outputs": [
    {
     "data": {
      "text/plain": [
       "['この爺さんがチョップマンの正体だァ？',\n",
       " 'はいこちらのカメラにもそれはバッチリおさめております',\n",
       " '疑うんならもう一度チョップ食べさせたら？',\n",
       " '滅多なこと言うんじゃないよ',\n",
       " 'あの僕がチョップマンと戦ってるとこ撮れてますか？',\n",
       " 'え？',\n",
       " 'これはなかなかの手柄ですよね',\n",
       " 'しかも第一発見者もなんと僕です',\n",
       " 'へぇやるね少年']"
      ]
     },
     "execution_count": 6,
     "metadata": {},
     "output_type": "execute_result"
    }
   ],
   "source": [
    "text"
   ]
  },
  {
   "cell_type": "code",
   "execution_count": 9,
   "id": "d9b0287d-2899-4dc4-b0a6-f9db640c0004",
   "metadata": {},
   "outputs": [
    {
     "data": {
      "text/plain": [
       "'そういうことで、これからの問題があります。'"
      ]
     },
     "execution_count": 9,
     "metadata": {},
     "output_type": "execute_result"
    }
   ],
   "source": [
    "text2 = mocr('./twitter_manga1.jpg')\n",
    "text2"
   ]
  },
  {
   "cell_type": "markdown",
   "id": "bfbd4084",
   "metadata": {},
   "source": [
    "### EasyOCR\n",
    "\n",
    "https://github.com/JaidedAI/EasyOCR\n",
    "\n",
    "https://www.jaided.ai/easyocr/tutorial/\n",
    "\n",
    "https://www.jaided.ai/easyocr/documentation/"
   ]
  },
  {
   "cell_type": "code",
   "execution_count": 6,
   "id": "35cf7174-2594-451a-959e-867f877eae43",
   "metadata": {},
   "outputs": [
    {
     "name": "stderr",
     "output_type": "stream",
     "text": [
      "Using CPU. Note: This module is much faster with a GPU.\n"
     ]
    }
   ],
   "source": [
    "reader = easyocr.Reader(['ja','en'], gpu=False)"
   ]
  },
  {
   "cell_type": "code",
   "execution_count": 7,
   "id": "63c571b9",
   "metadata": {},
   "outputs": [],
   "source": [
    "result = reader.readtext('./clip.jpg')"
   ]
  },
  {
   "cell_type": "code",
   "execution_count": 8,
   "id": "3697f15c-1946-4284-8b7b-0c8cd4584c58",
   "metadata": {},
   "outputs": [
    {
     "data": {
      "text/plain": [
       "[([[84, 42], [114, 42], [114, 100], [84, 100]], '手', 0.06110251971301239),\n",
       " ([[23, 28], [180, 28], [180, 263], [23, 263]], '雷', 0.0055189188462458905)]"
      ]
     },
     "execution_count": 8,
     "metadata": {},
     "output_type": "execute_result"
    }
   ],
   "source": [
    "result"
   ]
  },
  {
   "cell_type": "code",
   "execution_count": null,
   "id": "83211cc5-269f-4c03-84bf-17b43bfe8e97",
   "metadata": {},
   "outputs": [],
   "source": [
    "def ocr_list_reader():"
   ]
  },
  {
   "cell_type": "markdown",
   "id": "7ba55f94",
   "metadata": {},
   "source": [
    "## Translators\n",
    "\n",
    "translators to look at\n",
    "- https://huggingface.co/Helsinki-NLP/opus-mt-ja-en\n",
    "- https://huggingface.co/staka/fugumt-ja-en\n",
    "- https://huggingface.co/facebook/nllb-200-distilled-600M\n",
    "- https://huggingface.co/facebook/nllb-200-1.3B\n",
    "\n",
    "or this list in general\n",
    "- https://huggingface.co/models?pipeline_tag=translation&language=ja&sort=downloads\n"
   ]
  },
  {
   "cell_type": "code",
   "execution_count": 7,
   "id": "a6240de2",
   "metadata": {
    "id": "a6240de2",
    "outputId": "1a19415a-0a7b-48b1-f604-2d7435e95e1b"
   },
   "outputs": [
    {
     "name": "stdout",
     "output_type": "stream",
     "text": [
      "WARNING:tensorflow:From C:\\Users\\dblan\\anaconda3\\Lib\\site-packages\\tf_keras\\src\\losses.py:2976: The name tf.losses.sparse_softmax_cross_entropy is deprecated. Please use tf.compat.v1.losses.sparse_softmax_cross_entropy instead.\n",
      "\n"
     ]
    }
   ],
   "source": [
    "# Use a pipeline as a high-level helper\n",
    "translate_pipe = pipeline(\"translation\", model=\"Helsinki-NLP/opus-mt-ja-en\")"
   ]
  },
  {
   "cell_type": "code",
   "execution_count": null,
   "id": "74bf9232",
   "metadata": {
    "id": "74bf9232"
   },
   "outputs": [],
   "source": [
    "# Load model directly\n",
    "from transformers import AutoTokenizer, AutoModelForSeq2SeqLM\n",
    "\n",
    "tokenizer = AutoTokenizer.from_pretrained(\"Helsinki-NLP/opus-mt-ja-en\")\n",
    "model = AutoModelForSeq2SeqLM.from_pretrained(\"Helsinki-NLP/opus-mt-ja-en\")"
   ]
  },
  {
   "cell_type": "code",
   "execution_count": 8,
   "id": "8b6aac34",
   "metadata": {
    "id": "8b6aac34",
    "outputId": "7d9b2bb0-0494-4a1d-ae6b-83516d746d67",
    "scrolled": true
   },
   "outputs": [
    {
     "data": {
      "text/plain": [
       "[\"This old man is the identity of the chopman, isn't he?\",\n",
       " '(Laughter)',\n",
       " \"If you don't believe me, why don't you let him eat his chop again?\",\n",
       " \"Don't say that often.\",\n",
       " 'Are you taking pictures of me fighting the chopman?',\n",
       " 'What?',\n",
       " \"It's quite an honor, isn't it?\",\n",
       " '(Laughter)',\n",
       " 'Well done, boy.']"
      ]
     },
     "execution_count": 8,
     "metadata": {},
     "output_type": "execute_result"
    }
   ],
   "source": [
    "translated_text = []\n",
    "\n",
    "for i in text:\n",
    "    translated_text.append(translate_pipe(i)[0]['translation_text'])\n",
    "translated_text"
   ]
  },
  {
   "cell_type": "markdown",
   "id": "2a41a512-3852-4faf-b7ac-93fc2efbfd73",
   "metadata": {},
   "source": [
    "We see a few problems with the above translation. Indices 1 and 7 both output '(Laughter)' which is a very poor translation for both. We show the original input for these below. Of note they are far too long to be just laughter. There are various onomatopoeia for laughter but they are not this long. Three typical examples are \"笑う\", \"げらげら\", \"げらげら笑う\" which are all sound effects for different types of laughter.\n",
    "\n",
    "Additionally, I do have a fan translation of this page. The dialogue was translated as follows.\n",
    "\n",
    "\"This old man's the Chopman?\"\n",
    "\n",
    "\"Yeah, we caught his very transformationon camera!\"\n",
    "\n",
    "\"If you wanna make sure, how about we feed him some chop?\"\n",
    "\n",
    "\"Don't you dare.\"\n",
    "\n",
    "\"Um, did you film me fighting the Chopman?\"\n",
    "\n",
    "\"Huh?\"\n",
    "\n",
    "\"It was quite the accomplishment, if I do say so myself.\"\n",
    "\n",
    "\"I also happened to be the first one to find him\"\n",
    "\n",
    "\"Good going, kid\"\n",
    "\n",
    "The translator is a random person and I think it's clear he is a little loose on direct translation tending slightly towards readability, but we can see that this translation compares quite well against the machine translation, (laughter) translations excepted.\n",
    "\n",
    "We can also compare the text from the OCR and we can clearly see that it is an issue with the translator and not the OCR."
   ]
  },
  {
   "cell_type": "code",
   "execution_count": 27,
   "id": "496f0598-bb83-412a-a6bc-72c58e1df061",
   "metadata": {},
   "outputs": [
    {
     "name": "stdout",
     "output_type": "stream",
     "text": [
      "はいこちらのカメラにもそれはバッチリおさめております\n"
     ]
    },
    {
     "data": {
      "image/jpeg": "[encoded data removed]",
      "image/png": "[encoded data removed]",
      "text/plain": [
       "<PIL.JpegImagePlugin.JpegImageFile image mode=RGB size=133x196>"
      ]
     },
     "execution_count": 27,
     "metadata": {},
     "output_type": "execute_result"
    }
   ],
   "source": [
    "image = Image.open('./Random Manga Clips/random_manga1/clip02.jpg') # I start the image name numbers from 1 hence the mismatch with the index\n",
    "print(text[1])\n",
    "image"
   ]
  },
  {
   "cell_type": "code",
   "execution_count": 28,
   "id": "69a94ea4-0341-475c-b6f5-c5eb1a31f4cf",
   "metadata": {},
   "outputs": [
    {
     "name": "stdout",
     "output_type": "stream",
     "text": [
      "しかも第一発見者もなんと僕です\n"
     ]
    },
    {
     "data": {
      "image/jpeg": "[encoded data removed]",
      "image/png": "[encoded data removed]",
      "text/plain": [
       "<PIL.JpegImagePlugin.JpegImageFile image mode=RGB size=122x172>"
      ]
     },
     "execution_count": 28,
     "metadata": {},
     "output_type": "execute_result"
    }
   ],
   "source": [
    "image = Image.open('./Random Manga Clips/random_manga1/clip08.jpg')\n",
    "print(text[7])\n",
    "image"
   ]
  },
  {
   "cell_type": "markdown",
   "id": "20284457-27ba-4cdf-b8e2-2b5ebe54d25f",
   "metadata": {},
   "source": [
    "Reminder the small text next to the more detailed characters are called furigana. They are reading aids, please see Japanese Writing System explanation for a reminder on what these are. That they are in the image makes sense and that they are not included in the text from the OCR is also very nice to see as it would mess up the translation.\n",
    "\n",
    "We will try concatenating prior to translation."
   ]
  },
  {
   "cell_type": "code",
   "execution_count": 8,
   "id": "912b265e-300c-4d13-b39b-917877fa2f0a",
   "metadata": {},
   "outputs": [
    {
     "data": {
      "text/plain": [
       "\"This old man is the identity of the chopman, and he's got it in his camera, and if you're suspicious, you shouldn't tell him that I'm fighting the chopman. &lt;i&gt;That's a pretty good shot.&lt;/i&gt; &lt;i&gt;That's pretty impressive.&lt;/i&gt; &lt;i&gt;That's great.&lt;/i&gt; &lt;i&gt;That's great. &lt;i&gt;That's great. &lt;i&gt;That's great. &lt;i&gt;i&gt;That's great. &lt;i&gt;i&gt;That's great. &lt;i&gt;i&gt;i&gt;that's great.i&gt;i&gt;i&gt;i&gt;i&gt;i&gt;i&gt;i&gt;i&gt;i&gt;i&gt;i&gt;i&gt;i&gt;i&gt;i&gt;i&gt;i&gt;i&gt;i&gt;i&gt;i&gt;i&gt;i&gt;i&gt;i&gt;i&gt;i&gt;i&gt;i&gt;i&gt;i&i&gt&gt&gt;i&gt;i&gt;i&gt;i&gt;i&gt;i&gt;i&gt;i&gt;i&gt;i&gt;i&gt;i&gt;i&gt;i&gt;i&gt;i&gt;i&gt;i&i&i&gt;i&gt;i&gt;i&gt;i&gt;i&gt;i&gt;i&gt;i&gt;i&gt;i&gt;i&gt;i&gt;i&gt;i&gt;i&gt;i&gt;i&gt;i&gt;i&gt;i&gt;i&gt;i&gt;i&gt;i&gt;i&gt;i&gt;i&gt\""
      ]
     },
     "execution_count": 8,
     "metadata": {},
     "output_type": "execute_result"
    }
   ],
   "source": [
    "translated_text_full = translate_pipe(''.join(text))[0]['translation_text']\n",
    "translated_text_full"
   ]
  },
  {
   "cell_type": "markdown",
   "id": "676c76b1-2a60-4949-bbd6-5ea1dda41f77",
   "metadata": {},
   "source": [
    "Obviously, this is a poor translation. We'll try other translators."
   ]
  },
  {
   "cell_type": "code",
   "execution_count": 9,
   "id": "a3dd54f1-a29b-492e-a41d-15e7f77074f5",
   "metadata": {},
   "outputs": [
    {
     "data": {
      "application/vnd.jupyter.widget-view+json": {
       "model_id": "7662f5f2f8e14a018a5cacd430c9d6d3",
       "version_major": 2,
       "version_minor": 0
      },
      "text/plain": [
       "config.json:   0%|          | 0.00/1.03k [00:00<?, ?B/s]"
      ]
     },
     "metadata": {},
     "output_type": "display_data"
    },
    {
     "name": "stderr",
     "output_type": "stream",
     "text": [
      "C:\\Users\\dblan\\anaconda3\\Lib\\site-packages\\huggingface_hub\\file_download.py:157: UserWarning: `huggingface_hub` cache-system uses symlinks by default to efficiently store duplicated files but your machine does not support them in C:\\Users\\dblan\\.cache\\huggingface\\hub\\models--staka--fugumt-ja-en. Caching files will still work but in a degraded version that might require more space on your disk. This warning can be disabled by setting the `HF_HUB_DISABLE_SYMLINKS_WARNING` environment variable. For more details, see https://huggingface.co/docs/huggingface_hub/how-to-cache#limitations.\n",
      "To support symlinks on Windows, you either need to activate Developer Mode or to run Python as an administrator. In order to see activate developer mode, see this article: https://docs.microsoft.com/en-us/windows/apps/get-started/enable-your-device-for-development\n",
      "  warnings.warn(message)\n"
     ]
    },
    {
     "data": {
      "application/vnd.jupyter.widget-view+json": {
       "model_id": "db689d1486344e29bd0036312ec63225",
       "version_major": 2,
       "version_minor": 0
      },
      "text/plain": [
       "pytorch_model.bin:   0%|          | 0.00/121M [00:00<?, ?B/s]"
      ]
     },
     "metadata": {},
     "output_type": "display_data"
    },
    {
     "data": {
      "application/vnd.jupyter.widget-view+json": {
       "model_id": "db7d595797f9423c924ae1f67bc205d3",
       "version_major": 2,
       "version_minor": 0
      },
      "text/plain": [
       "generation_config.json:   0%|          | 0.00/289 [00:00<?, ?B/s]"
      ]
     },
     "metadata": {},
     "output_type": "display_data"
    },
    {
     "data": {
      "application/vnd.jupyter.widget-view+json": {
       "model_id": "919d44292f404269a03304939e905907",
       "version_major": 2,
       "version_minor": 0
      },
      "text/plain": [
       "tokenizer_config.json:   0%|          | 0.00/42.0 [00:00<?, ?B/s]"
      ]
     },
     "metadata": {},
     "output_type": "display_data"
    },
    {
     "data": {
      "application/vnd.jupyter.widget-view+json": {
       "model_id": "d36952a582614cb8b95c21a82749f2eb",
       "version_major": 2,
       "version_minor": 0
      },
      "text/plain": [
       "source.spm:   0%|          | 0.00/797k [00:00<?, ?B/s]"
      ]
     },
     "metadata": {},
     "output_type": "display_data"
    },
    {
     "data": {
      "application/vnd.jupyter.widget-view+json": {
       "model_id": "e9748186476d4a33ba76b62138822fb9",
       "version_major": 2,
       "version_minor": 0
      },
      "text/plain": [
       "target.spm:   0%|          | 0.00/797k [00:00<?, ?B/s]"
      ]
     },
     "metadata": {},
     "output_type": "display_data"
    },
    {
     "data": {
      "application/vnd.jupyter.widget-view+json": {
       "model_id": "4eccf39144bd44f58e5121ea5c354436",
       "version_major": 2,
       "version_minor": 0
      },
      "text/plain": [
       "vocab.json:   0%|          | 0.00/861k [00:00<?, ?B/s]"
      ]
     },
     "metadata": {},
     "output_type": "display_data"
    },
    {
     "data": {
      "application/vnd.jupyter.widget-view+json": {
       "model_id": "3c72f30154bd4171aa0916ace1f4c557",
       "version_major": 2,
       "version_minor": 0
      },
      "text/plain": [
       "special_tokens_map.json:   0%|          | 0.00/74.0 [00:00<?, ?B/s]"
      ]
     },
     "metadata": {},
     "output_type": "display_data"
    }
   ],
   "source": [
    "fugu_translator = pipeline('translation', model='staka/fugumt-ja-en')"
   ]
  },
  {
   "cell_type": "code",
   "execution_count": 10,
   "id": "423112a0-8caa-41ba-ab76-39a7525ab03f",
   "metadata": {},
   "outputs": [
    {
     "data": {
      "text/plain": [
       "[\"tss ts sam jesus jesus jesus jesus jesus jesus jesus jesus jesus jesus jesus jesus jesus ss ss ss ss ss y ss ss y y ss ss ss ss s' s' s' s' s' s s' s' s' t s' t' t' s' t' t' t'\",\n",
       " 'i just kept a smash-knemmott slurpe slurpe sl sl sl slw sl sl sl ss ss sm sm sm sm sm sm sm sm sm sm sm sm sm sm sn sm sm sm sm sn sm sm sm sm sm sm sn sm sm sm sm sm sm sm sm sm ssm sm sm sm sm sm sm ssm sm sm s sm sm s s sm ss ss s ss s ss s sm s ss s s ss t s ss t ss s s s s ss ss s s s s s s s s s s s s s s s s s s s s s s s s s s s s s s s s s s s s s s s s s s s s s s s s s s s s s s s s ss s s s s s ss s s s s s s s s s s s s s s s s s s s s s s s s s s s',\n",
       " 'why not start smash-duffee-whistle-whistle-whistle-whistle-whistle-whissant-whiss sm slurt-whiss sm slur-whisel-whisel-whisht-whish-t-whish-whis-whiss-whiss-whiss-whiss-whiss-whiss-whis-whis-whis-whiss-whiss-whiss-whis-whis-whis-whis-whiss-whis-whis-whis-whis-whis-whis-whis-whis-whis-whis-whis-whis-whis-whis-whi-t-t-hw-t-whi s-whi s-whi s-whis-whi s-whi s-whi s-whis-hs-whi s-whis-h-w-w-h-h-whi s-h-w-h-h-h-h-h-whis-whis-h-h-h-h-h-whis-h-h-h-h-w-w-h-h-w-h-w-w-w-w-w-w-h-w-w-w-w-w-w-w-w-w-w-w-w-w-w-w-w-w-w-w-w-w-w-w-w-w-w-w-w-w-w-w-w-w-w-w-w-w-w-w-w-w-w-w-w-w-w-w-w-w-w-w-w-w-w-w-w-w-w-w-w-w-w-w-w-w',\n",
       " 'no scumbagin in truant truante truthy truth truth truth truth t tru tru tru tru tru tru tru tru tru tru tre tre t t t t t t t  t t t t',\n",
       " \"you take any of these phototasking me, slap-to-rabbi slap-toge slap-todb slap-todb slap-tod slap-tod slap-tod srab d'a-tod-tod-tod-tod-to-d'h sl-tod-td-sla-sla-sla-sla-sla-sla-sla-sla-sla-sla-sla-sla-sla-sla-sla-sla-sla-sla-sla-sla-sla-sla-sla-sla-sla-sla-sla-sla-sla-sla-sla-sla-sla-sla-sla-sla-sla-sla-sla-sla-sla-sla-sla-sla-sla-sla-sla-sla-sla-sla-sla-sla-sla-sla-sla-sla-sla-sla-sla-d-sla-sla-sla-sla-sla-sla-sla-sla-sla-sla-sla-sla-sla-sla-sla-sla-sla-sla-sla-sla-sla-sla-s-sla-sla-sla-s-sla-s-sla-sla-sla-sla-sla-sla-sla-sla-sla-sla-sla-sla-sla-s-sla-sla-sla-sla-s-s-sla-sla-sla-sla-s-s-sla-sla-s-s-sel-s-s-s-s-s-s-sla-s-s-s-s-s-s-s-s-s-s-s-s-s-s-s-s-ss-s-s-s-s-sla\",\n",
       " \"jesus, walter d'or'orr'or' d'or-d'ar'ar'ar'ar'h'h'h'h'h'h'h'h'h'h'h'h'h'h'h'h'h'h'h'h'h'h'h'h'h'h'h'h'h'h'h'h'h'h'h'h'h'h'h'h'h'h'h'h'h'h'h'h'h'h'h'h'h'h'h'h'h'hhhhhhhhhhhhhhhhhhhhhhhhhhhhhhhhhhhhhhhhhhhhhhhhhhhhhhhhhhhhhhhhhhhhhhhhhhhhhhhhhhhhhhhhhhhhhhhhhhhhhhhhhhhhhhhhhhhhhhhhhhhhhhhhhhhhhhhhhhhhhhhhhhhhahhhhhhhhhhhahhhhhhhhhhhhhhhhhhhhhhahhhhhhhhhhhhhhhhhhhhhhhhhhhhhhhhhhhhhhhhhhhhhhhhhhhhhhhhhhhhhhhhhhhhhhhhhhhhhhhhhhhhhhhhhhhhhhhhhhhhhhhhhhhhhhhhhhhhhhhhhhhhhhhhhhhhhhhhhhhhhhhhhhhhhhhhhhhhhhhhhhhhhhhhhhhhhhhhhhhhhh\",\n",
       " 'I beg to be of great prodigious',\n",
       " 'my own who is a firstemergun even after my smash-in-a-smash-in-slap-slap-slap-srap-srap-srap-srap-srap-srap-srap-srap-slab-s-s-s-s-s-s-s-s-s-s-s-s-d-s-s-s-s-s-s-s-s-sn-s-s-s-s-s-s-s-s-s-s-s-thre-thre-s-s-thre-s-s-s-s-s-s-s-thre-s-s-s-thre-s-s-s-s-thre-s-s-s-s-thre-s-s-s-s-s-s-s-thre-s-thre-s-s-s-s-s-th-s-s-s-s-th-s-s-s-s-s-s-s-s--s-s-s-s-s-s-s-s-s-s-s-s-s-s-s-s-s-s--w-w--',\n",
       " \"jesus jesus jesus jesus jesus jesus jesus jesus jesus jesus jesus jesus jesus jesus jesus t'e ba t'a ba ba t' ba t' ba t' s s s' s' s' s' s' s' s' s' s' s' s' s' s' t' t' t' s' t' ' t' t' s' w' w' w' w' w' w' w' ' ' w' ' ' ' ' '\"]"
      ]
     },
     "execution_count": 10,
     "metadata": {},
     "output_type": "execute_result"
    }
   ],
   "source": [
    "fugu_translated_text = []\n",
    "\n",
    "for i in text:\n",
    "    fugu_translated_text.append(fugu_translator(i)[0]['translation_text'])\n",
    "fugu_translated_text"
   ]
  },
  {
   "cell_type": "markdown",
   "id": "84fa7b94-5e8c-401f-84e6-ee9b3eb5ec07",
   "metadata": {},
   "source": [
    "This fugu translator is impressively terrible."
   ]
  },
  {
   "cell_type": "code",
   "execution_count": 16,
   "id": "5539ca9a-6e65-458d-a6ec-a56842476e30",
   "metadata": {},
   "outputs": [],
   "source": [
    "nllb200_dist600m_translator = pipeline('translation_ja_to_en', model='facebook/nllb-200-distilled-600M')"
   ]
  },
  {
   "cell_type": "code",
   "execution_count": 17,
   "id": "b493ec61-5785-4497-96c8-05645d184a93",
   "metadata": {},
   "outputs": [
    {
     "data": {
      "text/plain": [
       "['en, es es un hombre de Chop, ¿no es un hombre de Chop?',\n",
       " 'en, en la cámara, que es muy buena.',\n",
       " 'en, no wonder if i could eat chop again?',\n",
       " 'en, y no hablas de cosas raras.',\n",
       " 'en, no? no. No. No. No. No. No. No. No. No. No. No. No. No. No. No. No. No. No. No. No. No. No. No. No. No. No. No. No. No. No. No. No. No. No. No. No. No. No. No. No. No. No. No. No. No. No. No. No. No. No. No. No. No. No. No. No. No. No. No. No. No. No. No. No. No. No. No. No. No. No. No. No. No. No. No. No. No. No. No. No. No. No. No. No. No. No. No. No. No. No. No. No. No. No. No. No. No. No',\n",
       " 'en? yeah?',\n",
       " 'en, es es un manipo de mano, ¿no es?',\n",
       " 'en, yo soy el primero en descubrir.',\n",
       " 'en, muchacho.']"
      ]
     },
     "execution_count": 17,
     "metadata": {},
     "output_type": "execute_result"
    }
   ],
   "source": [
    "nllb200_dist600m_translated_text = []\n",
    "\n",
    "for i in text:\n",
    "    nllb200_dist600m_translated_text.append(nllb200_dist600m_translator(i)[0]['translation_text'])\n",
    "nllb200_dist600m_translated_text"
   ]
  },
  {
   "cell_type": "markdown",
   "id": "ad816f89-ee32-4932-8019-57a840e8fafa",
   "metadata": {},
   "source": [
    "For some reason this is translating to Spanish and even a line in English. Perhaps, a bug with the code or poor training data; mixing English with Spanish perhaps? At least we can see some of the translation is sort of accurate albeit in Spanish."
   ]
  },
  {
   "cell_type": "code",
   "execution_count": 18,
   "id": "2dc98b56-54dd-4951-8cb4-845fa62ae311",
   "metadata": {},
   "outputs": [
    {
     "data": {
      "text/plain": [
       "['es a true Chopman, right?',\n",
       " 'es, y a bien des photos, y a bien des photos.',\n",
       " 'es, y si te lo dejes otra vez?',\n",
       " 'es, y no hablas de muchas cosas.',\n",
       " 'es photo of me fighting chopman?',\n",
       " 'es? ¿Qué es? ¿Qué es? ¿Qué es?',\n",
       " 'esito, ¿no es un buen manejo?',\n",
       " 'es, y yo fui el primer descubridor.',\n",
       " 'es, niño.']"
      ]
     },
     "execution_count": 18,
     "metadata": {},
     "output_type": "execute_result"
    }
   ],
   "source": [
    "# Trying es which should be spanish\n",
    "nllb200_dist600m_translator = pipeline('translation_ja_to_es', model='facebook/nllb-200-distilled-600M')\n",
    "nllb200_dist600m_translated_text = []\n",
    "\n",
    "for i in text:\n",
    "    nllb200_dist600m_translated_text.append(nllb200_dist600m_translator(i)[0]['translation_text'])\n",
    "nllb200_dist600m_translated_text"
   ]
  },
  {
   "cell_type": "code",
   "execution_count": 6,
   "id": "d45b7dbd-a299-444e-83b2-eaec55f9a1c5",
   "metadata": {},
   "outputs": [
    {
     "data": {
      "application/vnd.jupyter.widget-view+json": {
       "model_id": "4c7484b917f946ce9e7285a228e1a876",
       "version_major": 2,
       "version_minor": 0
      },
      "text/plain": [
       "generation_config.json:   0%|          | 0.00/189 [00:00<?, ?B/s]"
      ]
     },
     "metadata": {},
     "output_type": "display_data"
    },
    {
     "name": "stderr",
     "output_type": "stream",
     "text": [
      "C:\\Users\\dblan\\anaconda3\\Lib\\site-packages\\huggingface_hub\\file_download.py:157: UserWarning: `huggingface_hub` cache-system uses symlinks by default to efficiently store duplicated files but your machine does not support them in C:\\Users\\dblan\\.cache\\huggingface\\hub\\models--facebook--nllb-200-1.3B. Caching files will still work but in a degraded version that might require more space on your disk. This warning can be disabled by setting the `HF_HUB_DISABLE_SYMLINKS_WARNING` environment variable. For more details, see https://huggingface.co/docs/huggingface_hub/how-to-cache#limitations.\n",
      "To support symlinks on Windows, you either need to activate Developer Mode or to run Python as an administrator. In order to see activate developer mode, see this article: https://docs.microsoft.com/en-us/windows/apps/get-started/enable-your-device-for-development\n",
      "  warnings.warn(message)\n"
     ]
    },
    {
     "data": {
      "application/vnd.jupyter.widget-view+json": {
       "model_id": "b5267238f8af473e955621282ec340e6",
       "version_major": 2,
       "version_minor": 0
      },
      "text/plain": [
       "tokenizer_config.json:   0%|          | 0.00/564 [00:00<?, ?B/s]"
      ]
     },
     "metadata": {},
     "output_type": "display_data"
    },
    {
     "data": {
      "application/vnd.jupyter.widget-view+json": {
       "model_id": "b3624ef1fce54838a505fd518905be73",
       "version_major": 2,
       "version_minor": 0
      },
      "text/plain": [
       "sentencepiece.bpe.model:   0%|          | 0.00/4.85M [00:00<?, ?B/s]"
      ]
     },
     "metadata": {},
     "output_type": "display_data"
    },
    {
     "data": {
      "application/vnd.jupyter.widget-view+json": {
       "model_id": "078b16b47d5c4d0a9ef6d057e7093ec6",
       "version_major": 2,
       "version_minor": 0
      },
      "text/plain": [
       "tokenizer.json:   0%|          | 0.00/17.3M [00:00<?, ?B/s]"
      ]
     },
     "metadata": {},
     "output_type": "display_data"
    },
    {
     "data": {
      "application/vnd.jupyter.widget-view+json": {
       "model_id": "e312352d01734066ac7885235cd25d47",
       "version_major": 2,
       "version_minor": 0
      },
      "text/plain": [
       "special_tokens_map.json:   0%|          | 0.00/3.55k [00:00<?, ?B/s]"
      ]
     },
     "metadata": {},
     "output_type": "display_data"
    },
    {
     "data": {
      "text/plain": [
       "['en, ¿qué te parece? ¿Qué te parece? ¿Qué te parece?',\n",
       " 'enenenenenenenenenenenenenenenenenenenenenenenenenenenenenenenenenenenenenenenenenenenenenenenenenenenenenenenenenenenenenenenenenenenenenenenenenenenenenenenenenenenenenenenenenenenenenenenenenenenenenenenenenenenenenenenenenenenenenenenenenenenenenenenenenenenenenenenenenenenenenenenenenenenenenenenenenenenenenenenenenenenenenenenenenenenenenenenenenenenenenenenenenenenenenenenenenenenenenenen',\n",
       " 'en ja疑うんならまたチョップを食べさせたら?',\n",
       " 'en 滅多的事情說不よ',\n",
       " 'en, en, en, en, en, en, en, en, en, en, en, en, en, en, en, en, en, en, en, en, en, en, en, en, en, en, en, en, en, en, en, en, en, en, en, en, en, en, en, en, en, en, en, en, en, en, en, en, en, en, en, en, en, en, en, en, en, en, en, en, en, en, en, en, en, en, en, en, en, en, en, en, en, en, en, en, en, en, en, en, en, en, en, en, en, en, en, en, en, en, en, en, en, en, en, en, en, en, en, en',\n",
       " 'en? - Yeah, yeah, yeah',\n",
       " 'en en en en en en en en en en en en en en en en en en en en en en en en en en en en en en en en en en en en en en en en en en en en en en en en en en en en en en en en en en en en en en en en en en en en en en en en en en en en en en en en en en en en en en en en en en en en en en en en en en en en en en en en en en en en en en en en en en en en en en en en en en en en en en en en en en en en en en en en en en en en en en en en en en en en en en en en en en en en en en en en en en en en en en en en en en en en en en en en en en en en en en en en en en en en en en en en en en en en en en en',\n",
       " 'en, i was the first to discover it.',\n",
       " 'enenenenenenenenenenenenenenenenenenenenenenenenenenenenenenenenenenenenenenenenenenenenenenenenenenenenenenenenenenenenenenenenenenenenenenenenenenenenenenenenenenenenenenenenenenenenenenenenenenenenenenenenenenenenenenenenenenenenenenenenenenenenenenenenenenenenenenenenenenenenenenenenenenenenenenenenenenenenenenenenenenenenenenenenenenenenenenenenenenenenenenenenenenenenenenenenenenenenenenen']"
      ]
     },
     "execution_count": 6,
     "metadata": {},
     "output_type": "execute_result"
    }
   ],
   "source": [
    "nllb200_dist1p3B_translator = pipeline('translation_ja_to_en', model='facebook/nllb-200-1.3B')\n",
    "nllb200_dist1p3B_translated_text = []\n",
    "\n",
    "for i in text:\n",
    "    nllb200_dist1p3B_translated_text.append(nllb200_dist1p3B_translator(i)[0]['translation_text'])\n",
    "nllb200_dist1p3B_translated_text"
   ]
  },
  {
   "cell_type": "markdown",
   "id": "da604d8b-d429-4e03-b281-053a29a21024",
   "metadata": {},
   "source": [
    "Again, I am recieving nonsense in three different languages; English, Spanish, and Japanese. This is supposed to be en. Clearly the nllb model has serious issues. I will be sticking with the Helsinki-NLP/opus-mt-ja-en model. We do at least see some of the translations are decent and even in English! Also the Japanese text is just the input text. Also it isn't lost on me that all the translations for the nllb model appear to have the two letter language code tokens at the front. This suggests to me some sort of strange bug in the model.\n",
    "\n",
    "Regardless, I elect to return to image preprocessing to try to improve the translation. I will slice the (laughter) translated pages into pieces and feed it into the translator."
   ]
  },
  {
   "cell_type": "code",
   "execution_count": 11,
   "id": "e926a794-6a39-4227-9fab-b3e714670783",
   "metadata": {
    "scrolled": true
   },
   "outputs": [
    {
     "data": {
      "text/plain": [
       "['Here you go.',\n",
       " 'And the camera.',\n",
       " \"That's... that's... that's... that's... that's... that's... that's... that's... that's... that's... that's... that's... that's... that's... that's... that's... that's... that's... that's... that's... that's... that's... that's... that's... that's... that's... that's... that's... that's... that's... that's... that's... that's...\",\n",
       " \"I'll leave you to it.\"]"
      ]
     },
     "execution_count": 11,
     "metadata": {},
     "output_type": "execute_result"
    }
   ],
   "source": [
    "slices = []\n",
    "for i in range(1,5):\n",
    "    slices.append(mocr(f'./Random Manga Clips/random_manga1/clip02 slices/slice0{i}.jpg'))\n",
    "\n",
    "translated_slices = []\n",
    "\n",
    "for i in slices:\n",
    "    translated_slices.append(translate_pipe(i)[0]['translation_text'])\n",
    "translated_slices"
   ]
  },
  {
   "cell_type": "code",
   "execution_count": 12,
   "id": "518fcf27-b425-4599-80d4-81b59b3f6c86",
   "metadata": {},
   "outputs": [
    {
     "data": {
      "text/plain": [
       "['はいこちらの', 'カメラにも', 'それはバッチリ', 'おさめております']"
      ]
     },
     "execution_count": 12,
     "metadata": {},
     "output_type": "execute_result"
    }
   ],
   "source": [
    "slices"
   ]
  },
  {
   "cell_type": "markdown",
   "id": "2bda97d6-88c9-4014-a497-7ea5db904f61",
   "metadata": {},
   "source": [
    "This is quite bad, though it does at least recognize the word camera"
   ]
  },
  {
   "cell_type": "code",
   "execution_count": 18,
   "id": "5f724578-4681-489a-99ec-9dce1ef0e707",
   "metadata": {},
   "outputs": [
    {
     "name": "stdout",
     "output_type": "stream",
     "text": [
      "[{'translation_text': '(Laughter)'}]\n",
      "[{'translation_text': \"Yes, sir. It's on this camera.\"}]\n",
      "[{'translation_text': \"It's all right, sir. It's all right. It's all right.\"}]\n",
      "[{'translation_text': \"And that's not a bad idea for the camera.\"}]\n"
     ]
    }
   ],
   "source": [
    "print(translate_pipe(''.join(slices)))\n",
    "print(translate_pipe(''.join(slices[0:2])))\n",
    "print(translate_pipe(''.join(slices[2:])))\n",
    "\n",
    "print(translate_pipe(''.join(slices[1:3])))"
   ]
  },
  {
   "cell_type": "markdown",
   "id": "3b03ad37-2637-4c22-aa67-5950e58fb84f",
   "metadata": {},
   "source": [
    "It appears that there is a short of push and pull occurring. If we look at the sentence as a full context then it seems that there is a point where the translator loses the meaning of the whole sentence and gives back nonsense. Too little context if you slice apart the sentence and it loses the whole context. There seems to be a sweet spot of context for the translator see ........\n",
    "\n",
    "Interestingly this actually models Japanese writing where context helps you separate words and the meaning vice spaces like in English."
   ]
  },
  {
   "cell_type": "markdown",
   "id": "1c178d02",
   "metadata": {
    "id": "201ba391"
   },
   "source": [
    "## Evaluation"
   ]
  },
  {
   "cell_type": "markdown",
   "id": "8d2ccf8b-30fe-4a00-a8f6-e34166ae0e71",
   "metadata": {},
   "source": [
    "### BLEU\n",
    "The Bilingual Evaluation Understudy (BLEU) algorithm is a scoring system for the quality of machine translations. It works by ... . However there are issues .... . Of note, it requires a human translator to create a translation. As I am not fluent in Japanese, I elect to use Google Translate as a stand in. It is not perfect, it is inferior to a human translator, but it is a decent enough benchmark. All these issues considered, I use BLEU here as a way of judging the quality of translation."
   ]
  },
  {
   "cell_type": "code",
   "execution_count": 44,
   "id": "e924c0aa",
   "metadata": {},
   "outputs": [
    {
     "name": "stdout",
     "output_type": "stream",
     "text": [
      "[['This', 'old', 'man', 'is', 'the', 'identity', 'of', 'the', 'chopman,', \"isn't\", 'he?'], ['(Laughter)'], ['If', 'you', \"don't\", 'believe', 'me,', 'why', \"don't\", 'you', 'let', 'him', 'eat', 'his', 'chop', 'again?'], [\"Don't\", 'say', 'that', 'often.'], ['Are', 'you', 'taking', 'pictures', 'of', 'me', 'fighting', 'the', 'chopman?'], ['What?'], [\"It's\", 'quite', 'an', 'honor,', \"isn't\", 'it?'], ['(Laughter)'], ['Well', 'done,', 'boy.']]\n"
     ]
    }
   ],
   "source": [
    "# references = [\n",
    "#               [\"This old man's the Chopman?\"], \n",
    "#               [\"Yeah, we caught his very transformationon camera!\"],\n",
    "#               [\"If you wanna make sure, how about we feed him some chop?\"],\n",
    "#               [\"Don't you dare.\"],\n",
    "#               [\"Um, did you film me fighting the Chopman?\"],\n",
    "#               [\"Huh?\", \"What?\"], # using some knowledge え is an expression of surprise and 'huh' or 'what' are perfectly valid translations\n",
    "#               [\"It was quite the accomplishment, if I do say so myself.\"],\n",
    "#               [\"I also happened to be the first one to find him\"],\n",
    "#               [\"Good going, kid\"]\n",
    "#              ]\n",
    "\n",
    "references = [\n",
    "              [[\"This\", \"old\", \"man's\", \"the\", \"Chopman?\"]], \n",
    "              [[\"Yeah,\", \"we\", \"caught\", \"his\", \"very\", \"transformation\", \"on\", \"camera!\"]],\n",
    "              [[\"If\", \"you\", \"wanna\", \"make\", \"sure,\", \"how\", \"about\", \"we\", \"feed\", \"him\", \"some\", \"chop?\"]],\n",
    "              [[\"Don't\", \"you\", \"dare.\"]],\n",
    "              [[\"Um,\", \"did\", \"you\", \"film\", \"me\", \"fighting\", \"the\", \"Chopman?\"]],\n",
    "              [[\"Huh?\"], [\"What?\"]], # using some knowledge え is an expression of surprise and 'huh' or 'what' are perfectly valid translations\n",
    "              [[\"It\", \"was\", \"quite\", \"the\", \"accomplishment,\", \"if\", \"I\", \"do\", \"say\", \"so\", \"myself.\"]],\n",
    "              [[\"I\", \"also\", \"happened\", \"to\", \"be\", \"the\", \"first\", \"one\", \"to\", \"find\", \"him\"]],\n",
    "              [[\"Good\", \"going,\", \"kid\"]]\n",
    "             ]\n",
    "\n",
    "\n",
    "\n",
    "tr_text_lists = []\n",
    "for tr in translated_text:\n",
    "    tr_text_lists.append(tr.split(' '))\n",
    "    # tr_text_lists.append([j for j in tr.split(' ')])\n",
    "print(tr_text_lists)\n",
    "\n",
    "\n"
   ]
  },
  {
   "cell_type": "code",
   "execution_count": 10,
   "id": "a1dbfc4b-cd69-42ec-8af9-6c514a7df90e",
   "metadata": {},
   "outputs": [
    {
     "name": "stderr",
     "output_type": "stream",
     "text": [
      "C:\\Users\\dblan\\AppData\\Local\\Temp\\ipykernel_21472\\1426619684.py:1: FutureWarning: load_metric is deprecated and will be removed in the next major version of datasets. Use 'evaluate.load' instead, from the new library 🤗 Evaluate: https://huggingface.co/docs/evaluate\n",
      "  bleu_metric = load_metric('bleu')\n",
      "C:\\Users\\dblan\\anaconda3\\Lib\\site-packages\\datasets\\load.py:759: FutureWarning: The repository for bleu contains custom code which must be executed to correctly load the metric. You can inspect the repository content at https://raw.githubusercontent.com/huggingface/datasets/2.19.2/metrics/bleu/bleu.py\n",
      "You can avoid this message in future by passing the argument `trust_remote_code=True`.\n",
      "Passing `trust_remote_code=True` will be mandatory to load this metric from the next major release of `datasets`.\n",
      "  warnings.warn(\n"
     ]
    }
   ],
   "source": [
    "bleu_metric = load_metric('bleu')"
   ]
  },
  {
   "cell_type": "code",
   "execution_count": 29,
   "id": "37c45b84-6a67-4357-b09d-09c23486f4c6",
   "metadata": {},
   "outputs": [
    {
     "data": {
      "text/plain": [
       "[\"This old man is the identity of the chopman, isn't he?\",\n",
       " '(Laughter)',\n",
       " \"If you don't believe me, why don't you let him eat his chop again?\",\n",
       " \"Don't say that often.\",\n",
       " 'Are you taking pictures of me fighting the chopman?',\n",
       " 'What?',\n",
       " \"It's quite an honor, isn't it?\",\n",
       " '(Laughter)',\n",
       " 'Well done, boy.']"
      ]
     },
     "execution_count": 29,
     "metadata": {},
     "output_type": "execute_result"
    }
   ],
   "source": [
    "translated_text"
   ]
  },
  {
   "cell_type": "code",
   "execution_count": 45,
   "id": "3200297e-722a-4e30-a0ee-e7ec79256938",
   "metadata": {
    "scrolled": true
   },
   "outputs": [
    {
     "name": "stdout",
     "output_type": "stream",
     "text": [
      "{'bleu': 0.0, 'precisions': [0.26, 0.0975609756097561, 0.02857142857142857, 0.0], 'brevity_penalty': 0.7866278610665535, 'length_ratio': 0.8064516129032258, 'translation_length': 50, 'reference_length': 62}\n"
     ]
    }
   ],
   "source": [
    "results = bleu_metric.compute(predictions=tr_text_lists, references=references)\n",
    "print(results)"
   ]
  },
  {
   "cell_type": "markdown",
   "id": "89812094-8edf-410e-a792-a294bdf433e4",
   "metadata": {},
   "source": [
    "The bleu score seems overly bad to me, so I try without the (laughter) translations"
   ]
  },
  {
   "cell_type": "code",
   "execution_count": 48,
   "id": "4af0e1e5-d480-4462-b4c9-769fcd3d45ca",
   "metadata": {},
   "outputs": [
    {
     "data": {
      "text/plain": [
       "[['This',\n",
       "  'old',\n",
       "  'man',\n",
       "  'is',\n",
       "  'the',\n",
       "  'identity',\n",
       "  'of',\n",
       "  'the',\n",
       "  'chopman,',\n",
       "  \"isn't\",\n",
       "  'he?'],\n",
       " ['If',\n",
       "  'you',\n",
       "  \"don't\",\n",
       "  'believe',\n",
       "  'me,',\n",
       "  'why',\n",
       "  \"don't\",\n",
       "  'you',\n",
       "  'let',\n",
       "  'him',\n",
       "  'eat',\n",
       "  'his',\n",
       "  'chop',\n",
       "  'again?'],\n",
       " [\"Don't\", 'say', 'that', 'often.'],\n",
       " ['Are',\n",
       "  'you',\n",
       "  'taking',\n",
       "  'pictures',\n",
       "  'of',\n",
       "  'me',\n",
       "  'fighting',\n",
       "  'the',\n",
       "  'chopman?'],\n",
       " ['What?'],\n",
       " [\"It's\", 'quite', 'an', 'honor,', \"isn't\", 'it?'],\n",
       " ['Well', 'done,', 'boy.']]"
      ]
     },
     "execution_count": 48,
     "metadata": {},
     "output_type": "execute_result"
    }
   ],
   "source": [
    "references = [\n",
    "              [[\"This\", \"old\", \"man's\", \"the\", \"Chopman?\"]], \n",
    "              [[\"If\", \"you\", \"wanna\", \"make\", \"sure,\", \"how\", \"about\", \"we\", \"feed\", \"him\", \"some\", \"chop?\"]],\n",
    "              [[\"Don't\", \"you\", \"dare.\"]],\n",
    "              [[\"Um,\", \"did\", \"you\", \"film\", \"me\", \"fighting\", \"the\", \"Chopman?\"]],\n",
    "              [[\"Huh?\"], [\"What?\"]], # using some knowledge え is an expression of surprise and 'huh' or 'what' are perfectly valid translations\n",
    "              [[\"It\", \"was\", \"quite\", \"the\", \"accomplishment,\", \"if\", \"I\", \"do\", \"say\", \"so\", \"myself.\"]],\n",
    "              [[\"Good\", \"going,\", \"kid\"]]\n",
    "             ]\n",
    "\n",
    "tr_text_lists.pop(-2)\n",
    "tr_text_lists.pop(1)\n",
    "tr_text_lists"
   ]
  },
  {
   "cell_type": "code",
   "execution_count": 49,
   "id": "07a7a75c-df24-45bc-aaf6-26e27ce2708f",
   "metadata": {},
   "outputs": [
    {
     "name": "stdout",
     "output_type": "stream",
     "text": [
      "{'bleu': 0.0, 'precisions': [0.2708333333333333, 0.0975609756097561, 0.02857142857142857, 0.0], 'brevity_penalty': 1.0, 'length_ratio': 1.1162790697674418, 'translation_length': 48, 'reference_length': 43}\n"
     ]
    }
   ],
   "source": [
    "results = bleu_metric.compute(predictions=tr_text_lists, references=references)\n",
    "print(results)"
   ]
  },
  {
   "cell_type": "markdown",
   "id": "f96e008e-5102-419c-bfea-6ca8e1679db8",
   "metadata": {},
   "source": [
    "It doesn't seem to have made much difference"
   ]
  },
  {
   "cell_type": "markdown",
   "id": "e79c5236-7009-470d-b509-a27d54a5238c",
   "metadata": {},
   "source": [
    "## Creating and Testing Functions\n",
    "\n",
    "In this section I create and test functions that make it easier to utilize these pipelines"
   ]
  },
  {
   "cell_type": "code",
   "execution_count": 2,
   "id": "53e77e46-e1cf-4ec0-abc7-005fc8c33c4e",
   "metadata": {},
   "outputs": [],
   "source": [
    "def get_translations(img='', file_dir=\"\", translation_model=\"Helsinki-NLP/opus-mt-ja-en\", multi_file=False, concat_sent=False):\n",
    "    if multi_file:\n",
    "        files = os.listdir(file_dir)\n",
    "    else:\n",
    "        files = [img]\n",
    "        \n",
    "    jp_text_list = []\n",
    "    mocr = MangaOcr()\n",
    "    for file in files:\n",
    "        jp_text_list.append(mocr(file_dir+file))\n",
    "    \n",
    "    translated_text_list = []\n",
    "    translate_pipe = pipeline(\"translation\", model=translation_model)\n",
    "    if concat_sent == True:\n",
    "        translated_text_list.append(translate_pipe(''.join(jp_text_list))[0]['translation_text'])\n",
    "    \n",
    "    else:\n",
    "        for text in jp_text_list:\n",
    "            translated_text_list.append(translate_pipe(text)[0]['translation_text'])\n",
    "    \n",
    "    return jp_text_list, translated_text_list\n",
    "    "
   ]
  },
  {
   "cell_type": "code",
   "execution_count": 29,
   "id": "6e657dc8-907b-4bba-a5a8-6ceca1215e84",
   "metadata": {},
   "outputs": [],
   "source": [
    "def reference_wrapper(references):\n",
    "    '''\n",
    "    Creating the reference list is annoying. I automate it here. \n",
    "    Input should have the following form:\n",
    "    \n",
    "    [\n",
    "    [sent_1 entry_1, sent1 entry2],\n",
    "    [sent2 entry1....],\n",
    "    .\n",
    "    .\n",
    "    .\n",
    "    [sent_n entry1, .....]\n",
    "    ]\n",
    "\n",
    "    Where the outer list is the whole set of sentences and each inner list contains the acceptable translations for each sentence (entry1, entry2, etc).\n",
    "    '''\n",
    "    reference_list = []\n",
    "    for sent in references:\n",
    "        if len(sent) > 1:\n",
    "            multi_entry_list = []\n",
    "            for entry in sent:\n",
    "                multi_entry_list.append(entry.split(' '))\n",
    "            reference_list.append(multi_entry_list)\n",
    "        else:\n",
    "            reference_list.append([sent[0].split(' ')])\n",
    "\n",
    "    return reference_list"
   ]
  },
  {
   "cell_type": "code",
   "execution_count": 33,
   "id": "e0b742b7-80ad-454b-aad8-d92ea4434002",
   "metadata": {},
   "outputs": [],
   "source": [
    "def eval_translations(translated_text, reference):\n",
    "    tr_text_lists = []\n",
    "    for tr in translated_text:\n",
    "        tr_text_lists.append(tr.split(' '))\n",
    "\n",
    "    reference_list = reference_wrapper(reference)\n",
    "    # print(reference_list)\n",
    "    bleu_metric = load_metric('bleu')\n",
    "    results = bleu_metric.compute(predictions=tr_text_lists, references=reference_list)\n",
    "\n",
    "    return results\n"
   ]
  },
  {
   "cell_type": "code",
   "execution_count": 5,
   "id": "1100f874-6dfd-4cad-9ec2-a0b8b5cb9c4b",
   "metadata": {
    "scrolled": true
   },
   "outputs": [
    {
     "name": "stderr",
     "output_type": "stream",
     "text": [
      "\u001b[32m2024-06-13 14:20:18.940\u001b[0m | \u001b[1mINFO    \u001b[0m | \u001b[36mmanga_ocr.ocr\u001b[0m:\u001b[36m__init__\u001b[0m:\u001b[36m13\u001b[0m - \u001b[1mLoading OCR model from kha-white/manga-ocr-base\u001b[0m\n",
      "C:\\Users\\dblan\\anaconda3\\Lib\\site-packages\\transformers\\models\\vit\\feature_extraction_vit.py:28: FutureWarning: The class ViTFeatureExtractor is deprecated and will be removed in version 5 of Transformers. Please use ViTImageProcessor instead.\n",
      "  warnings.warn(\n",
      "\u001b[32m2024-06-13 14:20:22.665\u001b[0m | \u001b[1mINFO    \u001b[0m | \u001b[36mmanga_ocr.ocr\u001b[0m:\u001b[36m__init__\u001b[0m:\u001b[36m25\u001b[0m - \u001b[1mUsing CPU\u001b[0m\n",
      "\u001b[32m2024-06-13 14:20:23.400\u001b[0m | \u001b[1mINFO    \u001b[0m | \u001b[36mmanga_ocr.ocr\u001b[0m:\u001b[36m__init__\u001b[0m:\u001b[36m32\u001b[0m - \u001b[1mOCR ready\u001b[0m\n"
     ]
    },
    {
     "name": "stdout",
     "output_type": "stream",
     "text": [
      "WARNING:tensorflow:From C:\\Users\\dblan\\anaconda3\\Lib\\site-packages\\tf_keras\\src\\losses.py:2976: The name tf.losses.sparse_softmax_cross_entropy is deprecated. Please use tf.compat.v1.losses.sparse_softmax_cross_entropy instead.\n",
      "\n",
      "['この爺さんがチョップマンの正体だァ？', 'はいこちらのカメラにもそれはバッチリおさめております', '疑うんならもう一度チョップ食べさせたら？', '滅多なこと言うんじゃないよ', 'あの僕がチョップマンと戦ってるとこ撮れてますか？', 'え？', 'これはなかなかの手柄ですよね', 'しかも第一発見者もなんと僕です', 'へぇやるね少年']\n",
      "[\"This old man is the identity of the chopman, isn't he?\", '(Laughter)', \"If you don't believe me, why don't you let him eat his chop again?\", \"Don't say that often.\", 'Are you taking pictures of me fighting the chopman?', 'What?', \"It's quite an honor, isn't it?\", '(Laughter)', 'Well done, boy.']\n"
     ]
    }
   ],
   "source": [
    "jp_text_list, translated_text = get_translations(file_dir=\"./Random Manga Clips/random_manga1/\", multi_file=True)\n",
    "print(jp_text_list)\n",
    "print(translated_text)"
   ]
  },
  {
   "cell_type": "code",
   "execution_count": 34,
   "id": "c9dad0eb-d9cb-4495-a746-497ca7c634fa",
   "metadata": {},
   "outputs": [
    {
     "name": "stderr",
     "output_type": "stream",
     "text": [
      "C:\\Users\\dblan\\anaconda3\\Lib\\site-packages\\datasets\\load.py:759: FutureWarning: The repository for bleu contains custom code which must be executed to correctly load the metric. You can inspect the repository content at https://raw.githubusercontent.com/huggingface/datasets/2.19.2/metrics/bleu/bleu.py\n",
      "You can avoid this message in future by passing the argument `trust_remote_code=True`.\n",
      "Passing `trust_remote_code=True` will be mandatory to load this metric from the next major release of `datasets`.\n",
      "  warnings.warn(\n"
     ]
    },
    {
     "name": "stdout",
     "output_type": "stream",
     "text": [
      "{'bleu': 0.0, 'precisions': [0.26, 0.0975609756097561, 0.02857142857142857, 0.0], 'brevity_penalty': 0.8025187979624785, 'length_ratio': 0.819672131147541, 'translation_length': 50, 'reference_length': 61}\n"
     ]
    }
   ],
   "source": [
    "references= [\n",
    "            [\"This old man's the Chopman?\"],\n",
    "            [\"Yeah, we caught his very transformationon camera!\"],\n",
    "            [\"If you wanna make sure, how about we feed him some chop?\"],\n",
    "            [\"Don't you dare.\"],\n",
    "            [\"Um, did you film me fighting the Chopman?\"],\n",
    "            [\"Huh?\", \"What?\"],\n",
    "            [\"It was quite the accomplishment, if I do say so myself.\"],\n",
    "            [\"I also happened to be the first one to find him\"],\n",
    "            [\"Good going, kid\"]\n",
    "            ]\n",
    "    \n",
    "results = eval_translations(translated_text=translated_text, reference=references)\n",
    "print(results)"
   ]
  },
  {
   "cell_type": "markdown",
   "id": "c7327dfa-ff35-4fe9-979a-14f4edd508f6",
   "metadata": {},
   "source": [
    "Trying a different manga page with fewer panels to see if it extracts the full text better."
   ]
  },
  {
   "cell_type": "code",
   "execution_count": 74,
   "id": "e13d3282-f27f-4ff5-999b-e8c6ff48fa97",
   "metadata": {},
   "outputs": [
    {
     "name": "stderr",
     "output_type": "stream",
     "text": [
      "\u001b[32m2024-06-13 00:27:06.849\u001b[0m | \u001b[1mINFO    \u001b[0m | \u001b[36mmanga_ocr.ocr\u001b[0m:\u001b[36m__init__\u001b[0m:\u001b[36m13\u001b[0m - \u001b[1mLoading OCR model from kha-white/manga-ocr-base\u001b[0m\n",
      "\u001b[32m2024-06-13 00:27:09.787\u001b[0m | \u001b[1mINFO    \u001b[0m | \u001b[36mmanga_ocr.ocr\u001b[0m:\u001b[36m__init__\u001b[0m:\u001b[36m25\u001b[0m - \u001b[1mUsing CPU\u001b[0m\n",
      "\u001b[32m2024-06-13 00:27:10.604\u001b[0m | \u001b[1mINFO    \u001b[0m | \u001b[36mmanga_ocr.ocr\u001b[0m:\u001b[36m__init__\u001b[0m:\u001b[36m32\u001b[0m - \u001b[1mOCR ready\u001b[0m\n"
     ]
    }
   ],
   "source": [
    "jp_text_list, translated_text = get_translations(img='./twitter_manga1.jpg')"
   ]
  },
  {
   "cell_type": "code",
   "execution_count": 75,
   "id": "5b3cdfbd-88ac-4164-91e0-eb9b62860e18",
   "metadata": {},
   "outputs": [
    {
     "data": {
      "text/plain": [
       "['そういうことで、これからの問題があります。']"
      ]
     },
     "execution_count": 75,
     "metadata": {},
     "output_type": "execute_result"
    }
   ],
   "source": [
    "jp_text_list"
   ]
  },
  {
   "cell_type": "code",
   "execution_count": 76,
   "id": "3acd0f04-37b9-43ad-9d0b-f1d8e9c30c65",
   "metadata": {},
   "outputs": [
    {
     "data": {
      "text/plain": [
       "[\"That's why there's going to be a problem.\"]"
      ]
     },
     "execution_count": 76,
     "metadata": {},
     "output_type": "execute_result"
    }
   ],
   "source": [
    "translated_text"
   ]
  },
  {
   "cell_type": "markdown",
   "id": "121c170a-122a-46e4-889a-1103340c4a54",
   "metadata": {},
   "source": [
    "It's only capturing one line and the OCR extracted text is all wrong."
   ]
  },
  {
   "cell_type": "code",
   "execution_count": 78,
   "id": "64b07704-728b-4966-b3de-f39f19db8694",
   "metadata": {},
   "outputs": [
    {
     "name": "stderr",
     "output_type": "stream",
     "text": [
      "\u001b[32m2024-06-13 00:36:03.484\u001b[0m | \u001b[1mINFO    \u001b[0m | \u001b[36mmanga_ocr.ocr\u001b[0m:\u001b[36m__init__\u001b[0m:\u001b[36m13\u001b[0m - \u001b[1mLoading OCR model from kha-white/manga-ocr-base\u001b[0m\n",
      "\u001b[32m2024-06-13 00:36:07.058\u001b[0m | \u001b[1mINFO    \u001b[0m | \u001b[36mmanga_ocr.ocr\u001b[0m:\u001b[36m__init__\u001b[0m:\u001b[36m25\u001b[0m - \u001b[1mUsing CPU\u001b[0m\n",
      "\u001b[32m2024-06-13 00:36:07.846\u001b[0m | \u001b[1mINFO    \u001b[0m | \u001b[36mmanga_ocr.ocr\u001b[0m:\u001b[36m__init__\u001b[0m:\u001b[36m32\u001b[0m - \u001b[1mOCR ready\u001b[0m\n"
     ]
    },
    {
     "name": "stdout",
     "output_type": "stream",
     "text": [
      "['それでも、', 'そういうことで、今回の勉強勉強うっせーんだよ教育ババアッ！！', 'ずーん．．．']\n",
      "['(Laughter)', \"That's why you're studying so hard this time!\", \"It's just...\"]\n"
     ]
    }
   ],
   "source": [
    "jp_text_list, translated_text_list = get_translations(file_dir=\"./Random Manga Clips/twitter_manga1/\", multi_file=True)\n",
    "print(jp_text_list)\n",
    "print(translated_text_list)"
   ]
  },
  {
   "cell_type": "markdown",
   "id": "f4ae65e2-5d56-430b-91b8-dd2f3343de70",
   "metadata": {},
   "source": [
    "Once again this doesn't really work entirely, though it is an improvement.\n",
    "- The first index isn't capturing anything. Although I suspect it may be capturing a visual emotion indicator at the top left corner of the image as the そ hiragana looks somewhat similar. It also appears to again be translating it as laughter which is again obviously wrong.\n",
    "- The second index starts poorly, and doesn't seem to actually be capturing anything. However starting at the 勉 kanji it briefly gets it right in the second panel, misses a short two hiragana line, and then gets the remainder correct.\n",
    "- The third line is impressively correct as it is in a nonstandard format on the page. I actually expected it to fail.\n",
    "\n",
    "Unfortunately, I don't actually have a human translation for this one. So I'm going to have to really on google translate and try Chat GPT as a translator\n",
    "\n",
    "I will try again with clips as before"
   ]
  },
  {
   "cell_type": "code",
   "execution_count": 12,
   "id": "61b8b244-32f9-4c7c-b9e0-ae9023c2eed8",
   "metadata": {},
   "outputs": [
    {
     "name": "stderr",
     "output_type": "stream",
     "text": [
      "\u001b[32m2024-06-13 15:24:31.007\u001b[0m | \u001b[1mINFO    \u001b[0m | \u001b[36mmanga_ocr.ocr\u001b[0m:\u001b[36m__init__\u001b[0m:\u001b[36m13\u001b[0m - \u001b[1mLoading OCR model from kha-white/manga-ocr-base\u001b[0m\n",
      "C:\\Users\\dblan\\anaconda3\\Lib\\site-packages\\transformers\\models\\vit\\feature_extraction_vit.py:28: FutureWarning: The class ViTFeatureExtractor is deprecated and will be removed in version 5 of Transformers. Please use ViTImageProcessor instead.\n",
      "  warnings.warn(\n",
      "\u001b[32m2024-06-13 15:24:33.969\u001b[0m | \u001b[1mINFO    \u001b[0m | \u001b[36mmanga_ocr.ocr\u001b[0m:\u001b[36m__init__\u001b[0m:\u001b[36m25\u001b[0m - \u001b[1mUsing CPU\u001b[0m\n",
      "\u001b[32m2024-06-13 15:24:34.562\u001b[0m | \u001b[1mINFO    \u001b[0m | \u001b[36mmanga_ocr.ocr\u001b[0m:\u001b[36m__init__\u001b[0m:\u001b[36m32\u001b[0m - \u001b[1mOCR ready\u001b[0m\n"
     ]
    },
    {
     "name": "stdout",
     "output_type": "stream",
     "text": [
      "['ちょっと、最近遊びすぎよ。ちゃんと勉強もしてるんでしょうね？', 'チッ', '勉強勉強うっせーんだよこの教育ババアッ！！', 'ずーん．．．']\n",
      "[\"You've been playing too much lately. You're also studying well, aren't you?\", 'Shit.', \"I'm going to study! I'm going to study! I'm going to study!\", \"It's just...\"]\n"
     ]
    }
   ],
   "source": [
    "jp_text_list, translated_text_list = get_translations(file_dir=\"./Random Manga Clips/twitter_manga1/smaller clips/\", multi_file=True)\n",
    "print(jp_text_list)\n",
    "print(translated_text_list)"
   ]
  },
  {
   "cell_type": "markdown",
   "id": "6dc9e73f-e8ef-48cc-b8b2-a2f83c3c167d",
   "metadata": {},
   "source": [
    "Most of the Japanese text matches up! Possibly even all the second character in 'チッ' may be the correct one, but the font in the actual image makes it very hard to tell.\n",
    "\n",
    "For the translation from google\n",
    "1. Hey, I've been playing too much lately. You're also studying properly, aren't you?\n",
    "2. Chit\n",
    "3. Study, study, study, study,\n",
    "   - I'm pretty sure this is wrong, but it seems to be failing in a similar way to the pipeline\n",
    "4. Hmmm....\n",
    "\n",
    "From Chat GPT I provide two translations All at once, and line by line.\n",
    "This is when I ask it to translate all at once:\n",
    "1. \"Hey, you've been playing around too much lately. You're studying properly too, right?\"\n",
    "2. \"Tch.\"\n",
    "3. \"You're always nagging about studying, you education hag!!\"\n",
    "4. \"Thud...\" (sound of being emotionally hurt)\n",
    "\n",
    "When I ask it to translate line by line I get this:\n",
    "1. \"Hey, you've been playing too much lately. You're studying properly too, right?\"\n",
    "2. \"Tsk\" or \"Tch,\" which is a sound indicating annoyance or irritation.\n",
    "3. \"Studying, studying, you're so annoying, you old hag!!\"\n",
    "   - We can see that the translation getting stuck on saying \"Studying\" is probably because it is repeated.\n",
    "   - See 勉強勉強 which are the same two kanji, probably meaning studying, repeated twice.\n",
    "5. \"Sigh...\" or \"Thud...\" indicating a feeling of heaviness, depression, or disappointment.\n",
    "\n",
    "From this I think shit and even chit are okay translations, conveying the idea of annoyance or possibly even the literal onomatopoeia repectively.\n",
    "\n",
    "Also, the ability of ChatGPT to translate to a very readable format is quite impressive. I'll note as well that I had forgot to ask it to translate when I first entered it and found it responding to me in Japanese.\n",
    "\n",
    "I will evaluate these below."
   ]
  },
  {
   "cell_type": "code",
   "execution_count": 35,
   "id": "5efc9379-9f1f-43fc-86fa-048e16146d1b",
   "metadata": {},
   "outputs": [],
   "source": [
    "reference = [\n",
    "             [\"Hey, you've been playing around too much lately. You're studying properly too, right?\",\n",
    "              \"Hey, you've been playing too much lately. You're studying properly too, right?\"],\n",
    "             [\"Tch\", \"Tsk\", \"Shit\"],\n",
    "             [\"You're always nagging about studying, you education hag!!\", \"Studying, studying, you're so annoying, you old hag!!\"],\n",
    "             [\"Sigh...\", \"Thud...\"]\n",
    "             ]"
   ]
  },
  {
   "cell_type": "code",
   "execution_count": 36,
   "id": "6e76f06c-1b6a-44ef-ab42-6443087f3da4",
   "metadata": {},
   "outputs": [
    {
     "name": "stderr",
     "output_type": "stream",
     "text": [
      "C:\\Users\\dblan\\anaconda3\\Lib\\site-packages\\datasets\\load.py:759: FutureWarning: The repository for bleu contains custom code which must be executed to correctly load the metric. You can inspect the repository content at https://raw.githubusercontent.com/huggingface/datasets/2.19.2/metrics/bleu/bleu.py\n",
      "You can avoid this message in future by passing the argument `trust_remote_code=True`.\n",
      "Passing `trust_remote_code=True` will be mandatory to load this metric from the next major release of `datasets`.\n",
      "  warnings.warn(\n"
     ]
    },
    {
     "name": "stdout",
     "output_type": "stream",
     "text": [
      "{'bleu': 0.2081918849957486, 'precisions': [0.25925925925925924, 0.21739130434782608, 0.2, 0.16666666666666666], 'brevity_penalty': 1.0, 'length_ratio': 1.2272727272727273, 'translation_length': 27, 'reference_length': 22}\n"
     ]
    }
   ],
   "source": [
    "results = eval_translations(translated_text=translated_text_list, reference=reference)\n",
    "print(results)"
   ]
  },
  {
   "cell_type": "markdown",
   "id": "4a287043-9841-49fa-9f5c-5423cffbc4af",
   "metadata": {},
   "source": [
    "We see this was considered a better, albeit still not great, translation by BLEU. I would say subjectively it is mostly decent barring the third line as it mostly gets the point across and is failing reasonably (\"Studying, studying\" makes sense as it is actually repeated in the original text). This also suggests that some sort of a translation pipeline including Chat GPT may provide even greater results.\n",
    "\n",
    "I will try one last comic for illustration purposes. This one even includes a human translation. I will simply clip these from the get go as that appears to provide the best results for the OCR"
   ]
  },
  {
   "cell_type": "code",
   "execution_count": 37,
   "id": "29e9cba9-4528-4fc7-acf8-30a4caf883c5",
   "metadata": {},
   "outputs": [
    {
     "name": "stderr",
     "output_type": "stream",
     "text": [
      "\u001b[32m2024-06-13 15:43:21.993\u001b[0m | \u001b[1mINFO    \u001b[0m | \u001b[36mmanga_ocr.ocr\u001b[0m:\u001b[36m__init__\u001b[0m:\u001b[36m13\u001b[0m - \u001b[1mLoading OCR model from kha-white/manga-ocr-base\u001b[0m\n",
      "C:\\Users\\dblan\\anaconda3\\Lib\\site-packages\\transformers\\models\\vit\\feature_extraction_vit.py:28: FutureWarning: The class ViTFeatureExtractor is deprecated and will be removed in version 5 of Transformers. Please use ViTImageProcessor instead.\n",
      "  warnings.warn(\n",
      "\u001b[32m2024-06-13 15:43:24.380\u001b[0m | \u001b[1mINFO    \u001b[0m | \u001b[36mmanga_ocr.ocr\u001b[0m:\u001b[36m__init__\u001b[0m:\u001b[36m25\u001b[0m - \u001b[1mUsing CPU\u001b[0m\n",
      "\u001b[32m2024-06-13 15:43:25.018\u001b[0m | \u001b[1mINFO    \u001b[0m | \u001b[36mmanga_ocr.ocr\u001b[0m:\u001b[36m__init__\u001b[0m:\u001b[36m32\u001b[0m - \u001b[1mOCR ready\u001b[0m\n"
     ]
    },
    {
     "name": "stdout",
     "output_type": "stream",
     "text": [
      "['おまたせしましたァ！！', 'いただきま〜す', 'おまたせしましたァ！！']\n",
      "[\"I'm sorry for letting you go!\", 'Thank you for the food.', \"I'm sorry for letting you go!\"]\n"
     ]
    }
   ],
   "source": [
    "jp_text_list, translated_text_list = get_translations(file_dir=\"./Random Manga Clips/Junko_manga/\", multi_file=True)\n",
    "print(jp_text_list)\n",
    "print(translated_text_list)"
   ]
  },
  {
   "cell_type": "markdown",
   "id": "8997a146-c339-4105-b3fd-2191c1741e1f",
   "metadata": {},
   "source": [
    "So the human translation translated it as:\n",
    "\n",
    "1. \"Thank you for waiting!!\"\n",
    "2. \"Lets dig in~\"\n",
    "3. \"Thank you for waiting!!\"\n",
    "\n",
    "They are taking some liberties with the translation. The second line is a phrase that the Japanese say before eating a meal that is more accurately a sort of prayer of gratitude for the food. It's very often translated as \"Let's dig in\" but I would suggest that this is a mistranslation. \"いただきま〜す\" or \"itadakimasu\" (the phonetic pronunciation of the phrase in question) literally means \"to humbly receive\" and is a prayer coming from the Buddhist influence on Japanese culture and is often said with hands clasped together and eyes closed, not unlike a Christian prayer before a meal. \"Thank you for the food\" is almost certainly a more accurate translation than the flippant \"lets dig in\".\n",
    "\n",
    "Something I've avoided talking about at this point but now must is that there's a very long running argument over localization in Japanese translations particularly in manga. Being charitable, localization is where, rather than a literal translation, the work is slightly edited or rewritten so that it can be understood better by its target audience. For example, Japanese idioms or puns won't make any sense without a translators note. Less charitably, it erases the unique Japanese character and authorial intent of these works in an attempt to appeal to wider audiences and/or reflect the translators personal (or frankly sometimes political) disdain of certain aspects of Japanese culture that differ from ours. In my personal opinion (and very many others), localization can go so far as to completely alter the meaning of a work and ignores the original appeal that drew people to them in the first place.\n",
    "\n",
    "I bring this up as I tried a Chat GPT input for translating this phrase and recieved \"Let's eat!\" or \"Bon appétit!\". I then asked \"what does itadakimasu mean? and what is the cultural context\" and recieved the following two paragraphs:\n",
    "\n",
    "    \"Itadakimasu\" (いただきます) literally means \"I humbly receive.\" In the cultural context of Japan, it is a phrase traditionally said before eating a meal. It conveys gratitude and appreciation for the food, the people who prepared it, and the ingredients, which may have involved the sacrifice of animals or plants.\n",
    "\n",
    "    The phrase is deeply rooted in Japanese etiquette and respect for the effort and life involved in providing the meal. It reflects a broader cultural emphasis on mindfulness and appreciation. Saying \"itadakimasu\" before a meal is a way to express humility and thankfulness, aligning with the Japanese values of respect and gratitude.\n",
    "\n",
    "Does this seem like a phrase that \"lets dig in\" has accurately conveyed? No, it does not. Only in the most tortured form of \"a phrase you can say before you eat\" where any and every last ounce of cultural context has been stripped away completely.\n",
    "\n",
    "This suggests to me that localization in translation is possibly altering the results for when you ask ChatGPT to translate something that strips cultural context. These localized sources could be what it's pulling from when you ask it specifically to \"translate\". From my description above I obviously have a personal preference towards this issue, and one could reasonably criticize me for overreacting in this specific instance, however I have seen significantly mistranslated works sometime even to the point of being precisely the opposite of the original. I would suggest that if there is a large body of mistranslations being used to teach machine translation algorithms or LLMs that is a very real problem; garbage in, garbage out as they say. I still believe that ChatGPT has potential has potential as part of a pipeline, but it is concerning to see this issue.\n",
    "\n",
    "I should note that ChatGPT translated the first and last sentence as \"Sorry to keep you waiting!!\" which is probably fine. As is the human translation for these lines. Probably. Unfortunately, as I again lack the ability to speak or read Japanese fluently, I can't say which is better though I suspect from context that the chef in this image is using a specific Japanese idiom/phrase that may literally translate to something including an apology for waiting, but can reasonably be understood to be similar to thanks for waiting. This would be an excellent example of localization done right if what I suspect is correct. Although on the other hand, what precisely is lost if you keep it as \"Sorry to keep you waiting?\" which is possibly a more literal translation.\n",
    "\n",
    "I will add this issue of localization is making scoring these using BLEU very frustrating.  How can I reasonably score Japanese translations when there seems to be a culture amongst Western-based translators of Japanese that they retain a right to seriously alter the meaning of words and sentences in their translation according to their arbitrary whims. I'm not aware of any language other than Japanese that receives this treatment and it's not for lack of looking or, as I'm sure is obvious, passion about this subject. \"Let's dig in\" is a mistranslation, full stop. Yet the machine translator I used correctly gave me \"Thanks for the food\". If I naively use this, I am going to get a worse score for a correct translation because someone wanted to wash away the religious and cultural context of the phrase \"itadakimasu\". \n",
    "\n",
    "I will even test this to illustrate my point."
   ]
  },
  {
   "cell_type": "code",
   "execution_count": 42,
   "id": "f17ce249-941e-49fe-a8f1-01feed9a5862",
   "metadata": {},
   "outputs": [],
   "source": [
    "reference = [\n",
    "            [\"Thank you for waiting!!\", \"Sorry to keep you waiting!!\"],\n",
    "            [\"Lets dig in~\", \"Thank you for the food.\"],\n",
    "            [\"Thank you for waiting!!\", \"Sorry to keep you waiting!!\"]\n",
    "            ]"
   ]
  },
  {
   "cell_type": "code",
   "execution_count": 39,
   "id": "eab0339c-62df-4bfd-a5a7-c4b7644ed041",
   "metadata": {},
   "outputs": [
    {
     "name": "stderr",
     "output_type": "stream",
     "text": [
      "C:\\Users\\dblan\\anaconda3\\Lib\\site-packages\\datasets\\load.py:759: FutureWarning: The repository for bleu contains custom code which must be executed to correctly load the metric. You can inspect the repository content at https://raw.githubusercontent.com/huggingface/datasets/2.19.2/metrics/bleu/bleu.py\n",
      "You can avoid this message in future by passing the argument `trust_remote_code=True`.\n",
      "Passing `trust_remote_code=True` will be mandatory to load this metric from the next major release of `datasets`.\n",
      "  warnings.warn(\n"
     ]
    },
    {
     "name": "stdout",
     "output_type": "stream",
     "text": [
      "{'bleu': 0.31867539330789935, 'precisions': [0.5294117647058824, 0.2857142857142857, 0.2727272727272727, 0.25], 'brevity_penalty': 1.0, 'length_ratio': 1.5454545454545454, 'translation_length': 17, 'reference_length': 11}\n"
     ]
    }
   ],
   "source": [
    "results = eval_translations(translated_text=translated_text_list, reference=reference)\n",
    "print(results)"
   ]
  },
  {
   "cell_type": "code",
   "execution_count": 41,
   "id": "9b67e0f3-8ac7-432a-9c73-9b7948084e7f",
   "metadata": {},
   "outputs": [
    {
     "name": "stderr",
     "output_type": "stream",
     "text": [
      "C:\\Users\\dblan\\anaconda3\\Lib\\site-packages\\datasets\\load.py:759: FutureWarning: The repository for bleu contains custom code which must be executed to correctly load the metric. You can inspect the repository content at https://raw.githubusercontent.com/huggingface/datasets/2.19.2/metrics/bleu/bleu.py\n",
      "You can avoid this message in future by passing the argument `trust_remote_code=True`.\n",
      "Passing `trust_remote_code=True` will be mandatory to load this metric from the next major release of `datasets`.\n",
      "  warnings.warn(\n"
     ]
    },
    {
     "name": "stdout",
     "output_type": "stream",
     "text": [
      "{'bleu': 0.0, 'precisions': [0.23529411764705882, 0.0, 0.0, 0.0], 'brevity_penalty': 1.0, 'length_ratio': 1.5454545454545454, 'translation_length': 17, 'reference_length': 11}\n"
     ]
    }
   ],
   "source": [
    "reference = [\n",
    "            [\"Thank you for waiting!!\", \"Sorry to keep you waiting!!\"],\n",
    "            [\"Lets dig in~\"],\n",
    "            [\"Thank you for waiting!!\", \"Sorry to keep you waiting!!\"]\n",
    "            ]\n",
    "\n",
    "results = eval_translations(translated_text=translated_text_list, reference=reference)\n",
    "print(results)"
   ]
  },
  {
   "cell_type": "markdown",
   "id": "d8fcdeed-80a8-4869-b3b0-4c5600047349",
   "metadata": {},
   "source": [
    "And exactly as I said, the poor human translation is now causing the score to be worsened. We have moved beyond a mere simple preference for one translation style over another. Because of this practice, we may find that developing machine translation technology to translate Japanese text is now harder than it should be since they now have to contend with the poor practices of professional translators."
   ]
  },
  {
   "cell_type": "markdown",
   "id": "05c1a21d-54ec-4bca-a714-00e104573bc2",
   "metadata": {},
   "source": [
    "## Possible Future Work\n",
    "\n",
    "If I continue this work there are two angles of attack that I would apporach from. \n",
    "\n",
    "The first is finding an easier way to create clips for the text bubbles that I have done throughout this notebook. I have been using MS Paint but that would not scale well to more than one page. Interestingly though I elected not to use it EasyOCR appears to give pixel indices for it's text extraction. Perhaps implementing something like that as a fork of MangaOCR or finding somesort of preprocessing software would be the path. Note that MangaOCRs github has a section discussing the latter. I elected not to look into it for this project as the focus was for NLP vice Vision.\n",
    "\n",
    "The second is finding away to insert Chat GPT into the pipeline or some other better translation model. The Helsinki-NLP model seems to be merely ok-ish which is not quite good enough for what this project entails."
   ]
  },
  {
   "cell_type": "code",
   "execution_count": null,
   "id": "a0de416d-6467-449f-8fd2-591fb47280b6",
   "metadata": {},
   "outputs": [],
   "source": []
  }
 ],
 "metadata": {
  "colab": {
   "provenance": []
  },
  "kernelspec": {
   "display_name": "Python 3 (ipykernel)",
   "language": "python",
   "name": "python3"
  },
  "language_info": {
   "codemirror_mode": {
    "name": "ipython",
    "version": 3
   },
   "file_extension": ".py",
   "mimetype": "text/x-python",
   "name": "python",
   "nbconvert_exporter": "python",
   "pygments_lexer": "ipython3",
   "version": "3.11.7"
  }
 },
 "nbformat": 4,
 "nbformat_minor": 5
}
